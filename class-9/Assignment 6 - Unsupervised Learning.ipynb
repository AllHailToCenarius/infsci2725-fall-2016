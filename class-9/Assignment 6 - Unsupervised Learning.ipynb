{
 "cells": [
  {
   "cell_type": "markdown",
   "metadata": {},
   "source": [
    "For the following two data sets, originating from the Irvine Machine Leaning Repository (http://archive.ics.uci.edu/ml/):\n",
    "\n",
    "1)\tIris (http://archive.ics.uci.edu/ml/datasets/Iris)"
   ]
  },
  {
   "cell_type": "code",
   "execution_count": 1,
   "metadata": {
    "collapsed": true
   },
   "outputs": [],
   "source": [
    "from sklearn import datasets\n",
    "iris = datasets.load_iris()"
   ]
  },
  {
   "cell_type": "markdown",
   "metadata": {},
   "source": [
    "2)\tCongressional Voting Records (http://archive.ics.uci.edu/ml/datasets/Congressional+Voting+Records)"
   ]
  },
  {
   "cell_type": "code",
   "execution_count": 3,
   "metadata": {
    "collapsed": false
   },
   "outputs": [],
   "source": [
    "%load_ext rpy2.ipython"
   ]
  },
  {
   "cell_type": "code",
   "execution_count": 4,
   "metadata": {
    "collapsed": true
   },
   "outputs": [],
   "source": [
    "%%R\n",
    "data(HouseVotes84)"
   ]
  },
  {
   "cell_type": "markdown",
   "metadata": {},
   "source": [
    "#### Build clustering models based on each of these algorithms:\n",
    "1. K-means (***Bonus*** if initializing with K-means++)\n",
    "2. Gaussian Mixture Model\n",
    "3. Hierarchical Clustering\n",
    "4. (***Bonus***) Autoencoder (t-sne)"
   ]
  },
  {
   "cell_type": "markdown",
   "metadata": {},
   "source": [
    "You also need to demonstrate how to determine a number of clusters based on one of these methods: elbow, BIC, or Silhouette\n",
    "\n",
    "(***Bonus***) Pick one of the clustering results as another engineered feature and add it to the classification problem on the assignment 5. Is the new result significantly better than the one without this feature? And in your opinion, why this feature makes a difference?"
   ]
  },
  {
   "cell_type": "code",
   "execution_count": null,
   "metadata": {
    "collapsed": true
   },
   "outputs": [],
   "source": []
  }
 ],
 "metadata": {
  "kernelspec": {
   "display_name": "Python 2",
   "language": "python",
   "name": "python2"
  },
  "language_info": {
   "codemirror_mode": {
    "name": "ipython",
    "version": 2
   },
   "file_extension": ".py",
   "mimetype": "text/x-python",
   "name": "python",
   "nbconvert_exporter": "python",
   "pygments_lexer": "ipython2",
   "version": "2.7.11"
  }
 },
 "nbformat": 4,
 "nbformat_minor": 0
}
