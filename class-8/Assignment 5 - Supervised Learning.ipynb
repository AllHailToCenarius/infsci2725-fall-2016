{
 "cells": [
  {
   "cell_type": "markdown",
   "metadata": {},
   "source": [
    "For the following two data sets, originating from the Irvine Machine Leaning Repository (http://archive.ics.uci.edu/ml/):\n",
    "\n",
    "1)\tIris (http://archive.ics.uci.edu/ml/datasets/Iris)"
   ]
  },
  {
   "cell_type": "code",
   "execution_count": 1,
   "metadata": {
    "collapsed": true
   },
   "outputs": [],
   "source": [
    "from sklearn import datasets\n",
    "iris = datasets.load_iris()"
   ]
  },
  {
   "cell_type": "markdown",
   "metadata": {},
   "source": [
    "2)\tCongressional Voting Records (http://archive.ics.uci.edu/ml/datasets/Congressional+Voting+Records)"
   ]
  },
  {
   "cell_type": "code",
   "execution_count": 3,
   "metadata": {
    "collapsed": false
   },
   "outputs": [],
   "source": [
    "%load_ext rpy2.ipython"
   ]
  },
  {
   "cell_type": "code",
   "execution_count": 4,
   "metadata": {
    "collapsed": true
   },
   "outputs": [],
   "source": [
    "%%R\n",
    "data(HouseVotes84)"
   ]
  },
  {
   "cell_type": "markdown",
   "metadata": {},
   "source": [
    "Build classification models based on each of these algorithms:\n",
    "1. Logistic Regression or SVM\n",
    "2. Random Forest or Boosting (i.e. Adaboost)\n",
    "3. CART (i.e. Decision Tree)\n",
    "4. **Bonus** Neural Network"
   ]
  },
  {
   "cell_type": "markdown",
   "metadata": {},
   "source": [
    "The models should help in classification of types of iris flowers (1) and the parties of congressmen (2) based on flower properties and voting record, respectively.  Please clean up and discretize the data, if needed (if you need domain knowledge, you can read more about the data sets in the descriptions placed at UCI Repository).  Make sure to try different learning algorithms and their parameters.  Once you have learned models, check and report their classification accuracy (by means of a cross-validation method).  Try to improve the accuracy by using different learning approaches, different values of parameters, and injecting outside knowledge.  Report the best classification accuracy that you have been able to achieve for each of the two data sets along with the methods that gave you the best accuracy.  Make sure to summarize your observations and conclusions."
   ]
  }
 ],
 "metadata": {
  "kernelspec": {
   "display_name": "Python 2",
   "language": "python",
   "name": "python2"
  },
  "language_info": {
   "codemirror_mode": {
    "name": "ipython",
    "version": 2
   },
   "file_extension": ".py",
   "mimetype": "text/x-python",
   "name": "python",
   "nbconvert_exporter": "python",
   "pygments_lexer": "ipython2",
   "version": "2.7.11"
  }
 },
 "nbformat": 4,
 "nbformat_minor": 0
}
