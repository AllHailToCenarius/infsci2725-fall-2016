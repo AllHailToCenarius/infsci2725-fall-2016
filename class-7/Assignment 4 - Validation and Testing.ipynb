{
 "cells": [
  {
   "cell_type": "markdown",
   "metadata": {},
   "source": [
    "# INFSCI 2725: Data Analytics\n",
    "## Assignment 4: Validation and Testing"
   ]
  },
  {
   "cell_type": "markdown",
   "metadata": {},
   "source": [
    "File *house-votes-84.txt* (attached or download from [this](https://raw.githubusercontent.com/chirayukong/infsci2725-fall-2016/master/class-7/house-votes-84.txt)) contains 435 records of United States representatives.  Each record shows how the representative voted on each of 16 different issues (columns in the file)."
   ]
  },
  {
   "cell_type": "markdown",
   "metadata": {},
   "source": [
    "**Your tasks are to create a classifier from the data:** (Choose your classification algorithm by your choice)\n",
    "1. Use all the data\n",
    "2. Randomly split 80/20 of the data as the training/test sets\n",
    "3. Randomly split 60/20/20 of the data as the training/validation/test sets\n",
    "4. **(Bonus)** Randomly split 80/20 of the data as the training/test sets and use the leave-out-out crossvalidation"
   ]
  },
  {
   "cell_type": "markdown",
   "metadata": {},
   "source": [
    "**For each of them, report the results:**\n",
    "1. Overall classification accuracy\n",
    "2. Sensitivity and specificity for each of the two parties\n",
    "3. Positive and negative predictive value for each of the two parties\n",
    "4. Histogram of the results"
   ]
  },
  {
   "cell_type": "markdown",
   "metadata": {},
   "source": [
    "**Note:** the assignment report is encouraged be done with Python 2.7 or R in the Jupyter notebook file. You can either your own jupyter notebook server or use a pre-installed [docker](https://www.docker.com/) image at (https://hub.docker.com/r/chirayukong/infsci-2725-dataanalytics-notebook/)."
   ]
  },
  {
   "cell_type": "code",
   "execution_count": null,
   "metadata": {
    "collapsed": true
   },
   "outputs": [],
   "source": []
  }
 ],
 "metadata": {
  "kernelspec": {
   "display_name": "Python 2",
   "language": "python",
   "name": "python2"
  },
  "language_info": {
   "codemirror_mode": {
    "name": "ipython",
    "version": 2
   },
   "file_extension": ".py",
   "mimetype": "text/x-python",
   "name": "python",
   "nbconvert_exporter": "python",
   "pygments_lexer": "ipython2",
   "version": "2.7.11"
  }
 },
 "nbformat": 4,
 "nbformat_minor": 0
}
